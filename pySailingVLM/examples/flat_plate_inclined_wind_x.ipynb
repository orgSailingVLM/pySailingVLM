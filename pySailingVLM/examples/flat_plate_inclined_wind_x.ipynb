{
 "cells": [
  {
   "cell_type": "markdown",
   "id": "3af05a03-2ffc-4c54-9dae-a16491a5efdf",
   "metadata": {
    "tags": []
   },
   "source": [
    "# Example\n",
    "Comparison between swept wing by Bertin and pySailingVLM results. More information can be found at Aerodynamics for engineers John J.Bertin p 368 (Example 7.2)."
   ]
  },
  {
   "cell_type": "code",
   "execution_count": 1,
   "id": "f6f13512",
   "metadata": {
    "tags": []
   },
   "outputs": [],
   "source": [
    "# varaibles.py for jupyter\n",
    "import os\n",
    "import numpy as np\n",
    "import time\n",
    "from pySailingVLM.runner.container import Output, Rig, Conditions, Solver, MainSail, JibSail, Csys, Keel\n",
    "\n",
    "half_wing_span = 0.5\n",
    "sweep_angle_deg = 0.\n",
    "chord_length = 0.2\n",
    "AoA_deg = 4.\n",
    "mgirths =  np.array([0.00, 1./8, 1./4, 1./2, 3./4, 7./8, 1.00])\n",
    "mchords = np.array([chord_length]* len(mgirths))\n",
    "jgirths = np.array([0.00, 1./4, 1./2, 3./4, 1.00])\n",
    "\n",
    "out = Output(case_name='my_case_name',\n",
    "             case_dir=os.path.abspath(''),\n",
    "             name=os.path.join(\"results_example_jib_and_mainsail_vlm\", time.strftime(\"%Y-%m-%d_%Hh%Mm%Ss\")),\n",
    "            file_name='my_fancy_results')\n",
    "\n",
    "solver = Solver(n_spanwise=5,\n",
    "                n_chordwise=3,\n",
    "                interpolation_type='linear')\n",
    "\n",
    "conditions = Conditions(leeway_deg=0.,    \n",
    "                        heel_deg=0.,    \n",
    "                        SOG_yacht=0.,  \n",
    "                        tws_ref= 1.,     \n",
    "                        alpha_true_wind_deg= 0., \n",
    "                        reference_water_level_for_wind_profile=-0.,\n",
    "                        wind_exp_coeff=0.,\n",
    "                        wind_reference_measurment_height=10.,\n",
    "                        rho=1.,\n",
    "                        wind_profile='flat',\n",
    "                        roughness=0.05)\n",
    "\n",
    "rig = Rig(main_sail_luff=half_wing_span / np.cos(np.deg2rad(sweep_angle_deg)),\n",
    "          jib_luff=10.0,\n",
    "          foretriangle_height=11.50,\n",
    "          foretriangle_base=3.90,\n",
    "          sheer_above_waterline=0.,\n",
    "          boom_above_sheer=0.,\n",
    "          rake_deg=90. + sweep_angle_deg,\n",
    "          mast_LOA=0.,\n",
    "          sails_def='main')\n",
    "\n",
    "main = MainSail(centerline_twist_deg=np.array([AoA_deg] * len(mgirths)), #0*mgirths,\n",
    "                girths=mgirths,\n",
    "                chords=mchords,\n",
    "                camber= 0*np.array([0.01, 0.01, 0.01, 0.01, 0.01, 0.01, 0.01]),\n",
    "                camber_distance_from_luff=np.array([0.5, 0.5, 0.5, 0.5, 0.5, 0.5, 0.5]))\n",
    "              \n",
    "jib = JibSail(centerline_twist_deg=0*(10+5)  + 0*15. * jgirths,\n",
    "             girths=0*jgirths,\n",
    "             chords=0* np.array([3.80, 2.98, 2.15, 1.33, 0.5]),\n",
    "             camber=0*np.array([0.01, 0.01, 0.01, 0.01, 0.01]),\n",
    "             camber_distance_from_luff=0*np.array([0.5, 0.5, 0.5, 0.5, 0.5]))\n",
    "\n",
    "csys = Csys(reference_level_for_moments=np.array([0, 0, 0]))\n",
    "keel = Keel(center_of_lateral_resistance_upright=np.array([0, 0, -1.0]))    "
   ]
  },
  {
   "cell_type": "markdown",
   "id": "ef995a91-93c0-49b7-bb1d-0c5204ebd027",
   "metadata": {},
   "source": [
    "wind\n",
    "<div class=\"alert alert-block alert-warning\">\n",
    "<b>Run cell below twice:</b> Run cell below twice before running other cells. Output below is expected to always appear at first time importing pySailingVLM:\n",
    "<br><br>\n",
    "    \n",
    "<em>   \n",
    "/home/user/miniconda3/envs/mgr_test/lib/python3.10/site-packages/numba/core/lowering.py:107: NumbaDebugInfoWarning: Could not find source for function: <function __numba_array_expr_0x7f01d6a1e9e0 at 0x7f01d6cfa680>. Debug line information may be inaccurate.warnings.warn(NumbaDebugInfoWarning(msg))\n",
    "</em> \n",
    "<br>\n",
    "</div>"
   ]
  },
  {
   "cell_type": "code",
   "execution_count": 2,
   "id": "3ba83607",
   "metadata": {
    "tags": []
   },
   "outputs": [],
   "source": [
    "import shutil\n",
    "from pySailingVLM.rotations.csys_transformations import CSYS_transformations\n",
    "from pySailingVLM.yacht_geometry.hull_geometry import HullGeometry\n",
    "from pySailingVLM.results.save_utils import save_results_to_file\n",
    "from pySailingVLM.solver.panels_plotter import display_panels_xyz_and_winds\n",
    "from pySailingVLM.results.inviscid_flow import InviscidFlowResults\n",
    "from pySailingVLM.solver.vlm import Vlm\n",
    "from pySailingVLM.runner.sail import Wind, Sail\n",
    "from pySailingVLM.solver.panels_plotter import plot_cp"
   ]
  },
  {
   "cell_type": "code",
   "execution_count": 3,
   "id": "c270de25",
   "metadata": {
    "tags": []
   },
   "outputs": [],
   "source": [
    "import numpy as np\n",
    "from pySailingVLM.solver.coefs import get_vlm_Cxyz\n",
    "\n",
    "AoA_degs = np.linspace(0.001, 10., 20) # [4.0] #\n",
    "\n",
    "C_results = []\n",
    "cl_results = []\n",
    "a_vlm_results = []\n",
    "# for AoA_deg in AoA_degs:\n",
    "#conditions.alpha_true_wind_deg=  AoA_deg\n",
    "csys_transformations = CSYS_transformations(conditions.heel_deg, conditions.leeway_deg, v_from_original_xyz_2_reference_csys_xyz=csys.reference_level_for_moments)\n",
    "\n",
    "w = Wind(conditions)\n",
    "s = Sail(solver, rig, main, jib, csys_transformations)\n",
    "sail_set = s.sail_set\n",
    "myvlm = Vlm(sail_set.panels, solver.n_chordwise, solver.n_spanwise, conditions.rho, w.profile, sail_set.trailing_edge_info, sail_set.leading_edge_info)\n",
    "\n",
    "height = 1.0\n",
    "sails_Cxyz = myvlm.get_Cxyz(w, height)\n",
    "\n",
    "    # enumerate through sails\n",
    "    # in this example we have only main\n",
    "for idx, Cxyz in enumerate(sails_Cxyz):\n",
    "    a_vlm = Cxyz[1] / np.deg2rad(AoA_deg)\n",
    "    C_results.append(Cxyz[1])\n",
    "    a_vlm_results.append(a_vlm)\n"
   ]
  },
  {
   "cell_type": "code",
   "execution_count": 4,
   "id": "9a66967b-dd6f-4fd4-95b7-87042c336cef",
   "metadata": {
    "tags": []
   },
   "outputs": [],
   "source": [
    "# results from Aerodynamics for engineers John J.Bertin p 368\n",
    "C_bertin = 1.096 * np.pi * np.pi / 180.* AoA_degs"
   ]
  },
  {
   "cell_type": "code",
   "execution_count": 5,
   "id": "83b0bd4d-a6a1-4f49-b5ca-b7ceb4a52034",
   "metadata": {
    "tags": []
   },
   "outputs": [],
   "source": [
    "# import matplotlib.pyplot as plt\n",
    "# import scienceplots # sudo apt-get install dvipng texlive-latex-extra texlive-fonts-recommended cm-super\n",
    "\n",
    "# # plt.style.use('science')\n",
    "# fig = plt.figure()\n",
    "# ax = fig.add_subplot(1, 1, 1)\n",
    "# ax.plot(AoA_degs, C_results, color='tab:blue', label='pySailingVLM')\n",
    "# ax.plot(AoA_degs, C_bertin, color='tab:orange', linestyle='dashed', label='Bertin')\n",
    "\n",
    "# ax.set_xlabel(r\"AoA [$^\\circ$]\")\n",
    "# ax.set_ylabel(r\"$C_{L}$\")\n",
    "\n",
    "# ax.set_title(\"Lift coefficient versus angle of attack.\")\n",
    "# ax.legend()\n",
    "# plt.plot(AoA_degs, C_results)   \n",
    "# #plt.savefig('bertin_1.png')"
   ]
  },
  {
   "cell_type": "code",
   "execution_count": 6,
   "id": "095eb852-6625-4232-a29f-78bac6b13f64",
   "metadata": {
    "tags": []
   },
   "outputs": [],
   "source": [
    "# import numpy as np\n",
    "# from pySailingVLM.solver.coefs import get_vlm_Cxyz\n",
    "\n",
    "# AoA_deg = 4.2\n",
    "# C = []\n",
    "# c_l = []\n",
    "# a_vlm = []\n",
    "\n",
    "# conditions.alpha_true_wind_deg = AoA_deg\n",
    "# solver.n_spanwise = 4\n",
    "\n",
    "# csys_transformations = CSYS_transformations(conditions.heel_deg, conditions.leeway_deg, v_from_original_xyz_2_reference_csys_xyz=csys.reference_level_for_moments)\n",
    "\n",
    "# w = Wind(conditions)\n",
    "# s = Sail(solver, rig, main, jib, csys_transformations)\n",
    "# sail_set = s.sail_set\n",
    "# myvlm = Vlm(sail_set.panels, solver.n_chordwise, solver.n_spanwise, conditions.rho, w.profile, sail_set.trailing_edge_info, sail_set.leading_edge_info)\n",
    "\n",
    "# height = 1.0\n",
    "# sails_Cxyz = myvlm.get_Cxyz(w, height)\n",
    " \n",
    "# for idx, Cxyz in enumerate(sails_Cxyz):\n",
    "#     a = Cxyz[1] / np.deg2rad(AoA_deg)\n",
    "#     C.append(Cxyz[1])\n",
    "#     a_vlm.append(a)"
   ]
  },
  {
   "cell_type": "code",
   "execution_count": 7,
   "id": "322bbf87-8409-43a4-bc80-a5d19700cbac",
   "metadata": {
    "tags": []
   },
   "outputs": [],
   "source": [
    "# def calculate_ydata(gamma, CL, cav, wind, height):\n",
    "#     V = np.array(wind.profile.get_true_wind_speed_at_h(height))\n",
    "#     return 2 * gamma / (np.linalg.norm(V) * cav * CL)\n",
    "\n",
    "# N = int(sail_set.panels.shape[0] / 2)\n",
    "# cav = chord_length\n",
    "# y_data = np.array([calculate_ydata(myvlm.gamma_magnitude[i], C[0], cav, w, height) for i in range(N)])\n",
    "# cp_y = np.split(myvlm.cp, 2)[0][:,2]\n",
    "# x_data = 2 * cp_y / (half_wing_span * 2)"
   ]
  },
  {
   "cell_type": "code",
   "execution_count": 8,
   "id": "d572afad-9839-48f0-a6fc-c6b7e8a7f9c8",
   "metadata": {
    "tags": []
   },
   "outputs": [],
   "source": [
    "# g_good = np.array([0.0273, 0.0287, 0.0286, 0.0250])\n",
    "# ydata_good = 2 * 4 * 2 * half_wing_span * g_good / (1.096 * cav)\n",
    "# cp_y_good = np.array([0.0625, 0.1875, 0.3125, 0.4377])\n",
    "# x_good = 2*cp_y_good / (2*half_wing_span)"
   ]
  },
  {
   "cell_type": "code",
   "execution_count": 9,
   "id": "7351de04-ffb7-4540-bf8c-fc620f25c32c",
   "metadata": {
    "tags": []
   },
   "outputs": [],
   "source": [
    "# # importing matplotlib module\n",
    "# from matplotlib import pyplot as plt\n",
    "# fig = plt.figure()\n",
    "# ax = fig.add_subplot(1, 1, 1)\n",
    "# ax.plot(x_data, y_data, 'bo',label='pySailingVLM')\n",
    "# ax.plot(x_good, ydata_good,'r+', label='Bertin')\n",
    "\n",
    "# ax.set_xlabel(r\"$\\frac{2y}{b}$\")\n",
    "# ax.set_ylabel(r\"$\\frac{C_{l}}{C_{L}}$\")\n",
    "# ax.set_title(\"Spanwise lift distribution\")\n",
    "# ax.legend()   \n",
    "# plt.savefig('bertin_2')"
   ]
  },
  {
   "cell_type": "code",
   "execution_count": 10,
   "id": "7fad0ec2-6722-4f15-a9b0-1c935ebd288f",
   "metadata": {
    "tags": []
   },
   "outputs": [],
   "source": [
    "from pySailingVLM.solver.coefs import get_C\n",
    "cl = get_C(myvlm.panels, myvlm.areas, myvlm.lift, myvlm.inlet_conditions.V_app_infs, myvlm.n_spanwise, myvlm.n_chordwise, myvlm.rho)\n",
    "cd = get_C(myvlm.panels, myvlm.areas, myvlm.drag, myvlm.V_induced_at_cp, myvlm.n_spanwise, myvlm.n_chordwise, myvlm.rho)"
   ]
  },
  {
   "cell_type": "code",
   "execution_count": 11,
   "id": "f45169ad-623b-474f-9764-5a91065ac74e",
   "metadata": {
    "tags": []
   },
   "outputs": [],
   "source": [
    "#np.testing.assert_almost_equal(myvlm.inlet_conditions.V_app_infs,w.profile.get_true_wind_speed_at_h(1.0))\n",
    "    "
   ]
  },
  {
   "cell_type": "code",
   "execution_count": 12,
   "id": "d3b09f53-43c0-4b58-bd73-ec78720068a5",
   "metadata": {
    "tags": []
   },
   "outputs": [
    {
     "data": {
      "text/plain": [
       "array([1., 0., 0.])"
      ]
     },
     "execution_count": 12,
     "metadata": {},
     "output_type": "execute_result"
    }
   ],
   "source": [
    "w.profile.get_true_wind_speed_at_h(1.0)"
   ]
  },
  {
   "cell_type": "code",
   "execution_count": 13,
   "id": "f12e9db6-df9a-4a10-8c27-0ef02ad3efc2",
   "metadata": {
    "tags": []
   },
   "outputs": [
    {
     "data": {
      "text/plain": [
       "array([[1., 0., 0.],\n",
       "       [1., 0., 0.],\n",
       "       [1., 0., 0.],\n",
       "       [1., 0., 0.],\n",
       "       [1., 0., 0.],\n",
       "       [1., 0., 0.],\n",
       "       [1., 0., 0.],\n",
       "       [1., 0., 0.],\n",
       "       [1., 0., 0.],\n",
       "       [1., 0., 0.],\n",
       "       [1., 0., 0.],\n",
       "       [1., 0., 0.],\n",
       "       [1., 0., 0.],\n",
       "       [1., 0., 0.],\n",
       "       [1., 0., 0.],\n",
       "       [1., 0., 0.],\n",
       "       [1., 0., 0.],\n",
       "       [1., 0., 0.],\n",
       "       [1., 0., 0.],\n",
       "       [1., 0., 0.],\n",
       "       [1., 0., 0.],\n",
       "       [1., 0., 0.],\n",
       "       [1., 0., 0.],\n",
       "       [1., 0., 0.],\n",
       "       [1., 0., 0.],\n",
       "       [1., 0., 0.],\n",
       "       [1., 0., 0.],\n",
       "       [1., 0., 0.],\n",
       "       [1., 0., 0.],\n",
       "       [1., 0., 0.]])"
      ]
     },
     "execution_count": 13,
     "metadata": {},
     "output_type": "execute_result"
    }
   ],
   "source": [
    "myvlm.inlet_conditions.V_app_infs"
   ]
  },
  {
   "cell_type": "code",
   "execution_count": 14,
   "id": "50548656-ba14-4954-843a-a313cd65c50a",
   "metadata": {
    "tags": []
   },
   "outputs": [
    {
     "data": {
      "text/plain": [
       "array([[-2.37539955e-05, -2.12735109e-03, -1.64826454e-21],\n",
       "       [-2.09036323e-05, -2.08830429e-03, -5.97876896e-21],\n",
       "       [-1.47950654e-05, -1.99814039e-03, -5.13306947e-22],\n",
       "       [-4.63387809e-06, -1.82146648e-03, -3.21539884e-22],\n",
       "       [ 9.89734224e-06, -1.44248351e-03,  6.86766077e-22],\n",
       "       [ 4.61873843e-05, -8.22329568e-04,  0.00000000e+00],\n",
       "       [ 4.52470602e-05, -8.02376225e-04, -6.80213367e-22],\n",
       "       [ 4.29981984e-05, -7.55501677e-04, -6.55293248e-21],\n",
       "       [ 3.83517926e-05, -6.61522512e-04,  5.32238039e-21],\n",
       "       [ 2.81110057e-05, -4.63500329e-04,  0.00000000e+00],\n",
       "       [ 2.47047914e-05, -4.00656100e-04,  0.00000000e+00],\n",
       "       [ 2.40714058e-05, -3.89098327e-04,  0.00000000e+00],\n",
       "       [ 2.25723514e-05, -3.62039524e-04,  6.26508606e-21],\n",
       "       [ 1.95741546e-05, -3.09051793e-04,  0.00000000e+00],\n",
       "       [ 1.36113981e-05, -2.07926073e-04,  0.00000000e+00],\n",
       "       [ 9.89734224e-06, -1.44248351e-03, -6.86766077e-22],\n",
       "       [-4.63387809e-06, -1.82146648e-03,  3.21539884e-22],\n",
       "       [-1.47950654e-05, -1.99814039e-03,  5.13306947e-22],\n",
       "       [-2.09036323e-05, -2.08830429e-03,  5.97876896e-21],\n",
       "       [-2.37539955e-05, -2.12735109e-03,  1.64826454e-21],\n",
       "       [ 2.81110057e-05, -4.63500329e-04,  0.00000000e+00],\n",
       "       [ 3.83517926e-05, -6.61522512e-04, -5.32238039e-21],\n",
       "       [ 4.29981984e-05, -7.55501677e-04,  6.55293248e-21],\n",
       "       [ 4.52470602e-05, -8.02376225e-04,  6.80213367e-22],\n",
       "       [ 4.61873843e-05, -8.22329568e-04,  0.00000000e+00],\n",
       "       [ 1.36113981e-05, -2.07926073e-04,  0.00000000e+00],\n",
       "       [ 1.95741546e-05, -3.09051793e-04,  0.00000000e+00],\n",
       "       [ 2.25723514e-05, -3.62039524e-04, -6.26508606e-21],\n",
       "       [ 2.40714058e-05, -3.89098327e-04,  0.00000000e+00],\n",
       "       [ 2.47047914e-05, -4.00656100e-04,  0.00000000e+00]])"
      ]
     },
     "execution_count": 14,
     "metadata": {},
     "output_type": "execute_result"
    }
   ],
   "source": [
    "myvlm.force"
   ]
  },
  {
   "cell_type": "code",
   "execution_count": 15,
   "id": "4b9a50a8-1b2e-4ded-a6e6-171226c6af0e",
   "metadata": {
    "tags": []
   },
   "outputs": [
    {
     "data": {
      "text/plain": [
       "array([[ 0.00000000e+00, -2.12440401e-03,  0.00000000e+00],\n",
       "       [ 0.00000000e+00, -2.08560246e-03, -4.52242944e-21],\n",
       "       [ 0.00000000e+00, -1.99598957e-03,  0.00000000e+00],\n",
       "       [ 0.00000000e+00, -1.82030537e-03,  0.00000000e+00],\n",
       "       [ 0.00000000e+00, -1.44286391e-03,  0.00000000e+00],\n",
       "       [ 0.00000000e+00, -8.24931899e-04,  0.00000000e+00],\n",
       "       [ 0.00000000e+00, -8.04922307e-04, -6.98158811e-21],\n",
       "       [ 0.00000000e+00, -7.57925083e-04, -6.57395217e-21],\n",
       "       [ 0.00000000e+00, -6.63727595e-04,  0.00000000e+00],\n",
       "       [ 0.00000000e+00, -4.65275172e-04,  0.00000000e+00],\n",
       "       [ 0.00000000e+00, -4.01984721e-04,  0.00000000e+00],\n",
       "       [ 0.00000000e+00, -3.90374614e-04,  0.00000000e+00],\n",
       "       [ 0.00000000e+00, -3.63199260e-04,  0.00000000e+00],\n",
       "       [ 0.00000000e+00, -3.10003642e-04,  0.00000000e+00],\n",
       "       [ 0.00000000e+00, -2.08534257e-04,  0.00000000e+00],\n",
       "       [ 0.00000000e+00, -1.44286391e-03,  0.00000000e+00],\n",
       "       [ 0.00000000e+00, -1.82030537e-03,  0.00000000e+00],\n",
       "       [ 0.00000000e+00, -1.99598957e-03,  0.00000000e+00],\n",
       "       [ 0.00000000e+00, -2.08560246e-03,  4.52242944e-21],\n",
       "       [ 0.00000000e+00, -2.12440401e-03,  0.00000000e+00],\n",
       "       [ 0.00000000e+00, -4.65275172e-04,  0.00000000e+00],\n",
       "       [ 0.00000000e+00, -6.63727595e-04,  0.00000000e+00],\n",
       "       [ 0.00000000e+00, -7.57925083e-04,  6.57395217e-21],\n",
       "       [ 0.00000000e+00, -8.04922307e-04,  6.98158811e-21],\n",
       "       [ 0.00000000e+00, -8.24931899e-04,  0.00000000e+00],\n",
       "       [ 0.00000000e+00, -2.08534257e-04,  0.00000000e+00],\n",
       "       [ 0.00000000e+00, -3.10003642e-04,  0.00000000e+00],\n",
       "       [ 0.00000000e+00, -3.63199260e-04,  0.00000000e+00],\n",
       "       [ 0.00000000e+00, -3.90374614e-04,  0.00000000e+00],\n",
       "       [ 0.00000000e+00, -4.01984721e-04,  0.00000000e+00]])"
      ]
     },
     "execution_count": 15,
     "metadata": {},
     "output_type": "execute_result"
    }
   ],
   "source": [
    "myvlm.lift"
   ]
  },
  {
   "cell_type": "code",
   "execution_count": 16,
   "id": "b9aa4769-ac97-43b0-9415-c9785feeed04",
   "metadata": {
    "tags": []
   },
   "outputs": [],
   "source": [
    "a = np.array([0.0021244 , 0.0020856 , 0.00199599, 0.00182031, 0.00144286,\n",
    "       0.00082493, 0.00080492, 0.00075793, 0.00066373, 0.00046528,\n",
    "       0.00040198, 0.00039037, 0.0003632 , 0.00031   , 0.00020853,\n",
    "       0.00144286, 0.00182031, 0.00199599, 0.0020856 , 0.0021244 ,\n",
    "       0.00046528, 0.00066373, 0.00075793, 0.00080492, 0.00082493,\n",
    "       0.00020853, 0.00031   , 0.0003632 , 0.00039037, 0.00040198])\n",
    "np.testing.assert_almost_equal(myvlm.force[:, 1], a, decimal=2)"
   ]
  },
  {
   "cell_type": "code",
   "execution_count": 17,
   "id": "77f0698f-aea0-474d-ba4a-e395e7184bbd",
   "metadata": {
    "tags": []
   },
   "outputs": [
    {
     "data": {
      "text/plain": [
       "array([-0.00212735, -0.0020883 , -0.00199814, -0.00182147, -0.00144248,\n",
       "       -0.00082233, -0.00080238, -0.0007555 , -0.00066152, -0.0004635 ,\n",
       "       -0.00040066, -0.0003891 , -0.00036204, -0.00030905, -0.00020793,\n",
       "       -0.00144248, -0.00182147, -0.00199814, -0.0020883 , -0.00212735,\n",
       "       -0.0004635 , -0.00066152, -0.0007555 , -0.00080238, -0.00082233,\n",
       "       -0.00020793, -0.00030905, -0.00036204, -0.0003891 , -0.00040066])"
      ]
     },
     "execution_count": 17,
     "metadata": {},
     "output_type": "execute_result"
    }
   ],
   "source": [
    "myvlm.force[:, 1]"
   ]
  },
  {
   "cell_type": "code",
   "execution_count": 18,
   "id": "539cdd2a-bbcd-46b6-88e2-5db3676d2861",
   "metadata": {
    "tags": []
   },
   "outputs": [
    {
     "data": {
      "text/plain": [
       "array([[-2.37539955e-05, -2.94707202e-06, -1.64826454e-21],\n",
       "       [-2.09036323e-05, -2.70182535e-06, -1.45633952e-21],\n",
       "       [-1.47950654e-05, -2.15082093e-06, -5.13306947e-22],\n",
       "       [-4.63387809e-06, -1.16110664e-06, -3.21539884e-22],\n",
       "       [ 9.89734224e-06,  3.80400650e-07,  6.86766077e-22],\n",
       "       [ 4.61873843e-05,  2.60233154e-06, -0.00000000e+00],\n",
       "       [ 4.52470602e-05,  2.54608200e-06,  6.30137475e-21],\n",
       "       [ 4.29981984e-05,  2.42340553e-06,  2.10196923e-23],\n",
       "       [ 3.83517926e-05,  2.20508292e-06,  5.32238039e-21],\n",
       "       [ 2.81110057e-05,  1.77484332e-06, -0.00000000e+00],\n",
       "       [ 2.47047914e-05,  1.32862107e-06, -0.00000000e+00],\n",
       "       [ 2.40714058e-05,  1.27628626e-06, -0.00000000e+00],\n",
       "       [ 2.25723514e-05,  1.15973575e-06,  6.26508606e-21],\n",
       "       [ 1.95741546e-05,  9.51849699e-07, -0.00000000e+00],\n",
       "       [ 1.36113981e-05,  6.08183903e-07, -0.00000000e+00],\n",
       "       [ 9.89734224e-06,  3.80400650e-07, -6.86766077e-22],\n",
       "       [-4.63387809e-06, -1.16110664e-06,  3.21539884e-22],\n",
       "       [-1.47950654e-05, -2.15082093e-06,  5.13306947e-22],\n",
       "       [-2.09036323e-05, -2.70182535e-06,  1.45633952e-21],\n",
       "       [-2.37539955e-05, -2.94707202e-06,  1.64826454e-21],\n",
       "       [ 2.81110057e-05,  1.77484332e-06, -0.00000000e+00],\n",
       "       [ 3.83517926e-05,  2.20508292e-06, -5.32238039e-21],\n",
       "       [ 4.29981984e-05,  2.42340553e-06, -2.10196923e-23],\n",
       "       [ 4.52470602e-05,  2.54608200e-06, -6.30137475e-21],\n",
       "       [ 4.61873843e-05,  2.60233154e-06, -0.00000000e+00],\n",
       "       [ 1.36113981e-05,  6.08183903e-07, -0.00000000e+00],\n",
       "       [ 1.95741546e-05,  9.51849699e-07, -0.00000000e+00],\n",
       "       [ 2.25723514e-05,  1.15973575e-06, -6.26508606e-21],\n",
       "       [ 2.40714058e-05,  1.27628626e-06, -0.00000000e+00],\n",
       "       [ 2.47047914e-05,  1.32862107e-06, -0.00000000e+00]])"
      ]
     },
     "execution_count": 18,
     "metadata": {},
     "output_type": "execute_result"
    }
   ],
   "source": [
    "myvlm.drag"
   ]
  },
  {
   "cell_type": "code",
   "execution_count": 19,
   "id": "fb7b30ca-e3fd-4f0f-ab0c-5e7c72e2fe9c",
   "metadata": {
    "tags": []
   },
   "outputs": [
    {
     "data": {
      "text/plain": [
       "array([[-4.19208450e-03,  6.96336728e-02, -4.63461069e-05],\n",
       "       [-4.19575172e-03,  6.96334164e-02, -1.47877596e-04],\n",
       "       [-4.21733559e-03,  6.96319071e-02, -2.78353169e-04],\n",
       "       [-4.30408043e-03,  6.96258413e-02, -4.61724835e-04],\n",
       "       [-4.59370792e-03,  6.96055886e-02, -6.80800068e-04],\n",
       "       [-4.00782355e-03,  6.96465576e-02, -3.82002885e-05],\n",
       "       [-3.98397728e-03,  6.96482251e-02, -1.24953931e-04],\n",
       "       [-3.94137234e-03,  6.96512043e-02, -2.49501468e-04],\n",
       "       [-3.90989621e-03,  6.96534054e-02, -4.68527633e-04],\n",
       "       [-4.08637265e-03,  6.96410649e-02, -9.39701319e-04],\n",
       "       [-3.74951833e-03,  6.96646201e-02,  1.01712147e-04],\n",
       "       [-3.67374992e-03,  6.96699183e-02,  3.36312435e-04],\n",
       "       [-3.49724145e-03,  6.96822610e-02,  6.88986834e-04],\n",
       "       [-3.14746413e-03,  6.97067198e-02,  1.36694721e-03],\n",
       "       [-2.37286085e-03,  6.97608853e-02,  3.23570473e-03],\n",
       "       [-4.59370792e-03,  6.96055886e-02,  6.80800068e-04],\n",
       "       [-4.30408043e-03,  6.96258413e-02,  4.61724835e-04],\n",
       "       [-4.21733559e-03,  6.96319071e-02,  2.78353169e-04],\n",
       "       [-4.19575172e-03,  6.96334164e-02,  1.47877596e-04],\n",
       "       [-4.19208450e-03,  6.96336728e-02,  4.63461069e-05],\n",
       "       [-4.08637265e-03,  6.96410649e-02,  9.39701319e-04],\n",
       "       [-3.90989621e-03,  6.96534054e-02,  4.68527633e-04],\n",
       "       [-3.94137234e-03,  6.96512043e-02,  2.49501468e-04],\n",
       "       [-3.98397728e-03,  6.96482251e-02,  1.24953931e-04],\n",
       "       [-4.00782355e-03,  6.96465576e-02,  3.82002885e-05],\n",
       "       [-2.37286085e-03,  6.97608853e-02, -3.23570473e-03],\n",
       "       [-3.14746413e-03,  6.97067198e-02, -1.36694721e-03],\n",
       "       [-3.49724145e-03,  6.96822610e-02, -6.88986834e-04],\n",
       "       [-3.67374992e-03,  6.96699183e-02, -3.36312435e-04],\n",
       "       [-3.74951833e-03,  6.96646201e-02, -1.01712147e-04]])"
      ]
     },
     "execution_count": 19,
     "metadata": {},
     "output_type": "execute_result"
    }
   ],
   "source": [
    "myvlm.V_induced_at_ctrl"
   ]
  },
  {
   "cell_type": "code",
   "execution_count": 20,
   "id": "553bf34b-60de-419a-9d1c-8cc5998a5847",
   "metadata": {
    "tags": []
   },
   "outputs": [
    {
     "data": {
      "text/plain": [
       "array([[ 1.38724649e-03, -1.11814868e-02, -4.54729121e-05],\n",
       "       [ 1.29546517e-03, -1.00228268e-02, -1.43248957e-04],\n",
       "       [ 1.07757123e-03, -7.41239617e-03, -2.61785074e-04],\n",
       "       [ 6.37863656e-04, -2.54565973e-03, -4.10133117e-04],\n",
       "       [-2.63642778e-04,  6.85951194e-03, -5.48087554e-04],\n",
       "       [-3.15460166e-03,  5.59893299e-02, -4.53766789e-05],\n",
       "       [-3.16314007e-03,  5.62129535e-02, -1.46675225e-04],\n",
       "       [-3.19742094e-03,  5.67314625e-02, -2.84683324e-04],\n",
       "       [-3.32227096e-03,  5.77824289e-02, -5.03044155e-04],\n",
       "       [-3.81461000e-03,  6.04180222e-02, -8.53342447e-04],\n",
       "       [-3.30515317e-03,  6.14570408e-02, -5.52792661e-20],\n",
       "       [-3.26938848e-03,  6.16623237e-02, -1.26576672e-19],\n",
       "       [-3.19311155e-03,  6.21486713e-02, -1.55914799e-19],\n",
       "       [-3.07044682e-03,  6.31416924e-02, -8.94367023e-20],\n",
       "       [-2.91647000e-03,  6.52717608e-02,  8.31194475e-20],\n",
       "       [-2.63642778e-04,  6.85951194e-03,  5.48087554e-04],\n",
       "       [ 6.37863656e-04, -2.54565973e-03,  4.10133117e-04],\n",
       "       [ 1.07757123e-03, -7.41239617e-03,  2.61785074e-04],\n",
       "       [ 1.29546517e-03, -1.00228268e-02,  1.43248957e-04],\n",
       "       [ 1.38724649e-03, -1.11814868e-02,  4.54729121e-05],\n",
       "       [-3.81461000e-03,  6.04180222e-02,  8.53342447e-04],\n",
       "       [-3.32227096e-03,  5.77824289e-02,  5.03044155e-04],\n",
       "       [-3.19742094e-03,  5.67314625e-02,  2.84683324e-04],\n",
       "       [-3.16314007e-03,  5.62129535e-02,  1.46675225e-04],\n",
       "       [-3.15460166e-03,  5.59893299e-02,  4.53766789e-05],\n",
       "       [-2.91647000e-03,  6.52717608e-02, -8.31194475e-20],\n",
       "       [-3.07044682e-03,  6.31416924e-02,  8.94367023e-20],\n",
       "       [-3.19311155e-03,  6.21486713e-02,  1.55914799e-19],\n",
       "       [-3.26938848e-03,  6.16623237e-02,  1.26576672e-19],\n",
       "       [-3.30515317e-03,  6.14570408e-02,  5.52792661e-20]])"
      ]
     },
     "execution_count": 20,
     "metadata": {},
     "output_type": "execute_result"
    }
   ],
   "source": [
    "myvlm.V_induced_at_cp"
   ]
  },
  {
   "cell_type": "code",
   "execution_count": 21,
   "id": "59ac3c10-a50f-41a3-9a66-651e72233107",
   "metadata": {
    "tags": []
   },
   "outputs": [],
   "source": [
    "# import matplotlib.pyplot as plt\n",
    "# %matplotlib inline\n",
    "# section_number = np.arange(1, myvlm.n_spanwise+1, 1)\n",
    "\n",
    "# fig = plt.figure()\n",
    "# ax1 = fig.add_subplot(111)\n",
    "\n",
    "# #ax1.plot(cl[0], section_number, label='jib')\n",
    "# ax1.plot(cl[0],section_number, label='main')\n",
    "# plt.ylabel('section number')\n",
    "# plt.xlabel('section cl')\n",
    "# plt.legend(loc='upper left')\n",
    "# plt.show()"
   ]
  },
  {
   "cell_type": "code",
   "execution_count": null,
   "id": "09fb401d-7d2f-4667-8808-214d12e68b09",
   "metadata": {},
   "outputs": [],
   "source": []
  }
 ],
 "metadata": {
  "kernelspec": {
   "display_name": "Python 3 (ipykernel)",
   "language": "python",
   "name": "python3"
  },
  "language_info": {
   "codemirror_mode": {
    "name": "ipython",
    "version": 3
   },
   "file_extension": ".py",
   "mimetype": "text/x-python",
   "name": "python",
   "nbconvert_exporter": "python",
   "pygments_lexer": "ipython3",
   "version": "3.10.10"
  }
 },
 "nbformat": 4,
 "nbformat_minor": 5
}
