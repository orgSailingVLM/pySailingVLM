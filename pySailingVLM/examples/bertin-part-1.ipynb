{
 "cells": [
  {
   "cell_type": "markdown",
   "id": "3af05a03-2ffc-4c54-9dae-a16491a5efdf",
   "metadata": {
    "tags": []
   },
   "source": [
    "# Example\n",
    "Comparison between swept wing by Bertin and pySailingVLM results. More information can be found at Aerodynamics for engineers John J.Bertin p 368 (Example 7.2)."
   ]
  },
  {
   "cell_type": "code",
   "execution_count": 1,
   "id": "f6f13512",
   "metadata": {
    "tags": []
   },
   "outputs": [],
   "source": [
    "# varaibles.py for jupyter\n",
    "import os\n",
    "import numpy as np\n",
    "import time\n",
    "from pySailingVLM.runner.container import Output, Rig, Conditions, Solver, MainSail, JibSail, Csys, Keel\n",
    "\n",
    "half_wing_span = 0.5\n",
    "sweep_angle_deg = 45.\n",
    "chord_length = 0.2\n",
    "AoA_deg = 4.\n",
    "mgirths =  np.array([0.00, 1./8, 1./4, 1./2, 3./4, 7./8, 1.00])\n",
    "mchords = np.array([chord_length]* len(mgirths))\n",
    "jgirths = np.array([0.00, 1./4, 1./2, 3./4, 1.00])\n",
    "\n",
    "out = Output(case_name='my_case_name',\n",
    "             case_dir=os.path.abspath(''),\n",
    "             name=os.path.join(\"results_example_jib_and_mainsail_vlm\", time.strftime(\"%Y-%m-%d_%Hh%Mm%Ss\")),\n",
    "            file_name='my_fancy_results')\n",
    "\n",
    "solver = Solver(n_spanwise=4,\n",
    "                n_chordwise=1,\n",
    "                interpolation_type='linear')\n",
    "\n",
    "conditions = Conditions(leeway_deg=0.,    \n",
    "                        heel_deg=0.,    \n",
    "                        SOG_yacht=0.,  \n",
    "                        tws_ref= 1.,     \n",
    "                        alpha_true_wind_deg= AoA_deg, \n",
    "                        reference_water_level_for_wind_profile=-0.,\n",
    "                        wind_exp_coeff=0.,\n",
    "                        wind_reference_measurment_height=10.,\n",
    "                        rho=1.,\n",
    "                        wind_profile='flat',\n",
    "                        roughness=0.05)\n",
    "\n",
    "rig = Rig(main_sail_luff=half_wing_span / np.cos(np.deg2rad(sweep_angle_deg)),\n",
    "          jib_luff=10.0,\n",
    "          foretriangle_height=11.50,\n",
    "          foretriangle_base=3.90,\n",
    "          sheer_above_waterline=0.,\n",
    "          boom_above_sheer=0.,\n",
    "          rake_deg=90. + sweep_angle_deg,\n",
    "          mast_LOA=0.,\n",
    "          sails_def='main')\n",
    "\n",
    "main = MainSail(centerline_twist_deg=0*mgirths,\n",
    "                girths=mgirths,\n",
    "                chords=mchords,\n",
    "                camber= 0*np.array([0.01, 0.01, 0.01, 0.01, 0.01, 0.01, 0.01]),\n",
    "                camber_distance_from_luff=np.array([0.5, 0.5, 0.5, 0.5, 0.5, 0.5, 0.5]))\n",
    "              \n",
    "jib = JibSail(centerline_twist_deg=0*(10+5)  + 0*15. * jgirths,\n",
    "             girths=jgirths,\n",
    "             chords=0* np.array([3.80, 2.98, 2.15, 1.33, 0.5]),\n",
    "             camber=0*np.array([0.01, 0.01, 0.01, 0.01, 0.01]),\n",
    "             camber_distance_from_luff=np.array([0.5, 0.5, 0.5, 0.5, 0.5]))\n",
    "\n",
    "csys = Csys(reference_level_for_moments=np.array([0, 0, 0]))\n",
    "keel = Keel(center_of_lateral_resistance_upright=np.array([0, 0, -1.0]))    "
   ]
  },
  {
   "cell_type": "markdown",
   "id": "ef995a91-93c0-49b7-bb1d-0c5204ebd027",
   "metadata": {},
   "source": [
    "\n",
    "<div class=\"alert alert-block alert-warning\">\n",
    "<b>Run cell below twice:</b> Run cell below twice before running other cells. Output below is expected to always appear at first time importing pySailingVLM:\n",
    "<br><br>\n",
    "    \n",
    "<em>   \n",
    "/home/user/miniconda3/envs/mgr_test/lib/python3.10/site-packages/numba/core/lowering.py:107: NumbaDebugInfoWarning: Could not find source for function: <function __numba_array_expr_0x7f01d6a1e9e0 at 0x7f01d6cfa680>. Debug line information may be inaccurate.warnings.warn(NumbaDebugInfoWarning(msg))\n",
    "</em> \n",
    "<br>\n",
    "</div>"
   ]
  },
  {
   "cell_type": "code",
   "execution_count": 2,
   "id": "3ba83607",
   "metadata": {
    "tags": []
   },
   "outputs": [],
   "source": [
    "import shutil\n",
    "from pySailingVLM.rotations.csys_transformations import CSYS_transformations\n",
    "from pySailingVLM.yacht_geometry.hull_geometry import HullGeometry\n",
    "from pySailingVLM.results.save_utils import save_results_to_file\n",
    "from pySailingVLM.solver.panels_plotter import display_panels_xyz_and_winds\n",
    "from pySailingVLM.results.inviscid_flow import InviscidFlowResults\n",
    "from pySailingVLM.solver.vlm import Vlm\n",
    "from pySailingVLM.runner.sail import Wind, Sail\n",
    "from pySailingVLM.solver.panels_plotter import plot_cp\n",
    "from pySailingVLM.solver.coefs import get_C"
   ]
  },
  {
   "cell_type": "code",
   "execution_count": 3,
   "id": "9a66967b-dd6f-4fd4-95b7-87042c336cef",
   "metadata": {
    "tags": []
   },
   "outputs": [],
   "source": [
    "# results from Aerodynamics for engineers John J.Bertin p 368\n",
    "AoA_degs = np.linspace(0.001, 10., 20) # [4.0]\n",
    "C_bertin = 1.096 * np.pi * np.pi / 180.* AoA_degs"
   ]
  },
  {
   "cell_type": "code",
   "execution_count": 5,
   "id": "c270de25",
   "metadata": {
    "tags": []
   },
   "outputs": [],
   "source": [
    "import numpy as np\n",
    "from pySailingVLM.solver.coefs import get_vlm_Cxyz\n",
    "\n",
    "CL_results = []\n",
    "cl_results = []\n",
    "\n",
    "for AoA_deg in AoA_degs:\n",
    "    conditions.alpha_true_wind_deg=  AoA_deg\n",
    "    csys_transformations = CSYS_transformations(conditions.heel_deg, conditions.leeway_deg, v_from_original_xyz_2_reference_csys_xyz=csys.reference_level_for_moments)\n",
    "\n",
    "    w = Wind(conditions)\n",
    "    s = Sail(solver, rig, main, jib, csys_transformations)\n",
    "    sail_set = s.sail_set\n",
    "    myvlm = Vlm(sail_set.panels, solver.n_chordwise, solver.n_spanwise, conditions.rho, w.profile, sail_set.trailing_edge_info, sail_set.leading_edge_info)\n",
    "    \n",
    "    height = 1.0\n",
    "    \n",
    "    # enumerate through sails\n",
    "    # in this example we have only main\n",
    "    cl = get_C(myvlm.panels, myvlm.areas, myvlm.lift, myvlm.inlet_conditions.V_app_infs, myvlm.n_spanwise, myvlm.n_chordwise, myvlm.rho)\n",
    "    cd = get_C(myvlm.panels, myvlm.areas, myvlm.drag, myvlm.inlet_conditions.V_app_infs, myvlm.n_spanwise, myvlm.n_chordwise, myvlm.rho)\n",
    "    \n",
    "    k = int(myvlm.panels.shape[0] / (solver.n_spanwise * solver.n_chordwise * 2) ) # *2 in denominator due to underwater part\n",
    "\n",
    "\n",
    "    sail_areas = np.split(myvlm.areas, (2*k))\n",
    "    section_areas = np.zeros((k, solver.n_spanwise), dtype=float) # reshaped in proper way array with areas\n",
    "    sail_cps = np.split(myvlm.cp, (2*k))\n",
    "    sail_section_mean_cp_z = np.zeros((k, solver.n_spanwise), dtype=float)\n",
    "    # cl for every panel in all sails\n",
    "\n",
    "    # iterating only above water\n",
    "    for i in range(k):\n",
    "        for j in range(solver.n_spanwise):   \n",
    "            section_sail_areas = sail_areas[i].reshape(solver.n_chordwise, solver.n_spanwise)[:,j]\n",
    "            section_areas[i, j] = np.sum(section_sail_areas)\n",
    "\n",
    "            arr = sail_cps[i][:, 2].reshape(solver.n_chordwise, solver.n_spanwise).transpose()\n",
    "            mean_section_cp_z = np.sum(arr, axis=1) / solver.n_chordwise\n",
    "            sail_section_mean_cp_z[i] = mean_section_cp_z\n",
    "\n",
    "    CL = np.sum(section_areas[0] * cl[0]) / np.sum(section_areas[0])\n",
    "    CL_results.append(CL)"
   ]
  },
  {
   "cell_type": "code",
   "execution_count": 11,
   "id": "83b0bd4d-a6a1-4f49-b5ca-b7ceb4a52034",
   "metadata": {
    "tags": []
   },
   "outputs": [
    {
     "data": {
      "image/png": "[encoded data removed]",
      "text/plain": [
       "<Figure size 350x262.5 with 1 Axes>"
      ]
     },
     "metadata": {},
     "output_type": "display_data"
    }
   ],
   "source": [
    "import matplotlib.pyplot as plt\n",
    "import scienceplots # sudo apt-get install dvipng texlive-latex-extra texlive-fonts-recommended cm-super\n",
    "\n",
    "plt.style.use(['science', 'grid'])\n",
    "fig = plt.figure()\n",
    "ax = fig.add_subplot(1, 1, 1)\n",
    "\n",
    "ax.plot(AoA_degs, C_bertin, color='tab:orange', linestyle='dashed', label='Bertin', linewidth=2)\n",
    "ax.plot(AoA_degs, CL_results, color='tab:blue', label='pySailingVLM')\n",
    "\n",
    "\n",
    "ax.set_xlabel(r\"AoA [$^\\circ$]\")\n",
    "ax.set_ylabel(r\"$C_{L}$\")\n",
    "\n",
    "ax.set_title(\"Lift coefficient versus angle of attack.\")\n",
    "ax.legend()  \n",
    "ax.autoscale(tight=True)\n",
    "plt.savefig('bertin_1', dpi=300)"
   ]
  },
  {
   "cell_type": "code",
   "execution_count": null,
   "id": "15bb7ba0-2ca7-409e-aed3-11e719191bfe",
   "metadata": {},
   "outputs": [],
   "source": []
  }
 ],
 "metadata": {
  "kernelspec": {
   "display_name": "Python 3 (ipykernel)",
   "language": "python",
   "name": "python3"
  },
  "language_info": {
   "codemirror_mode": {
    "name": "ipython",
    "version": 3
   },
   "file_extension": ".py",
   "mimetype": "text/x-python",
   "name": "python",
   "nbconvert_exporter": "python",
   "pygments_lexer": "ipython3",
   "version": "3.10.10"
  }
 },
 "nbformat": 4,
 "nbformat_minor": 5
}
