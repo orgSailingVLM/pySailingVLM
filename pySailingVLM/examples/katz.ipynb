{
 "cells": [
  {
   "cell_type": "markdown",
   "id": "3af05a03-2ffc-4c54-9dae-a16491a5efdf",
   "metadata": {
    "tags": []
   },
   "source": [
    "# Example\n",
    "Comparison between swept wing by Bertin and pySailingVLM results. More information can be found at Aerodynamics for engineers John J.Bertin p 368 (Example 7.2)."
   ]
  },
  {
   "cell_type": "code",
   "execution_count": 1,
   "id": "f6f13512",
   "metadata": {
    "tags": []
   },
   "outputs": [],
   "source": [
    "# varaibles.py for jupyter\n",
    "import os\n",
    "import numpy as np\n",
    "import time\n",
    "\n",
    "AR = 4 \n",
    "half_wing_span = 0.5\n",
    "chord_length = half_wing_span / AR\n",
    "sweep_angle_deg = 45.\n",
    "AoA_deg = 5.\n",
    "mgirths =  np.array([0.00, 1./8, 1./4, 1./2, 3./4, 7./8, 1.00])\n",
    "mchords = np.array([chord_length]* len(mgirths))\n",
    "\n",
    "   \n",
    "output_args = {\n",
    "    'case_name': 'my_case_name',  # get name of the current file\n",
    "    'case_dir': os.path.abspath(''), # get dir of the current file\n",
    "    'name': os.path.join(\"results_example_jib_and_mainsail_vlm\", time.strftime(\"%Y-%m-%d_%Hh%Mm%Ss\")),\n",
    "    'file_name': 'my_fancy_results', # name of xlsx excel file\n",
    "}\n",
    "\n",
    "solver_args = {\n",
    "    'n_spanwise':  3,  # No of control points (above the water) per sail, recommended: 50\n",
    "    'n_chordwise': 2, # No of control points (above the water) per sail, recommended: 50\n",
    "    'interpolation_type': \"linear\",  # either \"spline\" or \"linear\"\n",
    "    'LLT_twist': \"real_twist\",  # defines how the Lifting Line discretize the sail twist.\n",
    "}\n",
    "\n",
    "conditions_args = {\n",
    "    'leeway_deg': 0.,    # [deg]\n",
    "    'heel_deg': 0.,     # [deg]\n",
    "    'SOG_yacht': 0.,   # [m/s] yacht speed - speed over ground (leeway is a separate variable)\n",
    "    'tws_ref': 1.0,     # [m/s] true wind speed\n",
    "    'alpha_true_wind_deg': AoA_deg,   # [deg] true wind angle (with reference to course over ground) => Course Wind Angle to the boat track = true wind angle to centerline + Leeway\n",
    "    'reference_water_level_for_wind_profile': -0.,  # [m] this is an attempt to mimick the deck effect\n",
    "    # by lowering the sheer_above_waterline\n",
    "    # while keeping the wind profile as in original geometry\n",
    "    # this shall be negative (H = sail_ctrl_point - water_level)\n",
    "    'wind_exp_coeff': 0.,  # [-] coefficient to determine the exponential wind profile\n",
    "    'wind_reference_measurment_height': 10.,  # [m] reference height for exponential wind profile\n",
    "    'rho': 1.,  # air density [kg/m3]\n",
    "    'wind_profile': 'flat', # allowed: 'exponential' or 'flat' or 'logarithmic'\n",
    "    'roughness': 0.05, # for logarithmic profile only \n",
    "}\n",
    "\n",
    "\n",
    "rig_args = {\n",
    "    'main_sail_luff': half_wing_span / np.cos(np.deg2rad(sweep_angle_deg)),  # [m]\n",
    "    'jib_luff': 10.0,  # [m]\n",
    "    'foretriangle_height': 11.50,  # [m]\n",
    "    'foretriangle_base': 3.90,  # [m]\n",
    "    'sheer_above_waterline': 0.,#[m]\n",
    "    'boom_above_sheer': 0., # [m],\n",
    "    'rake_deg': 90. + sweep_angle_deg,  # rake angle [deg]\n",
    "    'mast_LOA': 0.,  # [m]\n",
    "    'sails_def': 'main', # definition of sail set, possible: 'jib' or 'main' or 'jib_and_main'\n",
    "}\n",
    "\n",
    "\n",
    "# INFO for camber:\n",
    "# First digit describing maximum camber as percentage of the chord.\n",
    "# Second digit describing the distance of maximum camber from the airfoil leading edge in tenths of the chord.\n",
    "main_sail_args = {\n",
    "    'girths' : mgirths,\n",
    "    'chords': mchords,\n",
    "    'centerline_twist_deg': 0*mgirths,\n",
    "    'camber': 0*np.array([0.01, 0.01, 0.01, 0.01, 0.01, 0.01, 0.01]),\n",
    "    'camber_distance_from_luff': np.array([0.5, 0.5, 0.5, 0.5, 0.5, 0.5, 0.5]),\n",
    "}\n",
    " \n",
    "\n",
    "jgirths = np.array([0.00, 1./4, 1./2, 3./4, 1.00])\n",
    "jib_sail_args = {\n",
    "    'centerline_twist_deg': 0*(10+5)  + 0*15. * jgirths,\n",
    "    'girths': jgirths,\n",
    "    'chords': 0* np.array([3.80, 2.98, 2.15, 1.33, 0.5]),\n",
    "    'camber': 0*np.array([0.01, 0.01, 0.01, 0.01, 0.01]),\n",
    "    'camber_distance_from_luff': np.array([0.5, 0.5, 0.5, 0.5, 0.5]), # starting from leading edge   \n",
    "}        \n",
    "\n",
    "# REFERENCE CSYS\n",
    "# The origin of the default CSYS is located @ waterline level and aft face of the mast\n",
    "# The positive x-coord: towards stern\n",
    "# The positive y-coord: towards leeward side\n",
    "# The positive z-coord: above the water\n",
    "# To shift the default CSYS, adjust the 'reference_level_for_moments' variable.\n",
    "# Shifted CSYS = original + reference_level_for_moments\n",
    "# As a results the moments will be calculated around the new origin.\n",
    "\n",
    "# yaw_reference [m] - distance from the aft of the mast towards stern, at which the yawing moment is calculated.\n",
    "# sway_reference [m] - distance from the aft of the mast towards leeward side. 0 for symmetric yachts ;)\n",
    "# heeling_reference [m] - distance from the water level,  at which the heeling moment is calculated.\n",
    "csys_args = {\n",
    "    'reference_level_for_moments': np.array([0, 0, 0]),  # [yaw_reference, sway_reference, heeling_reference]\n",
    "}\n",
    "\n",
    "# GEOMETRY OF THE KEEL\n",
    "# to estimate heeling moment from keel, does not influence the optimizer.\n",
    "# reminder: the z coord shall be negative (under the water)\n",
    "keel_args={\n",
    "    'center_of_lateral_resistance_upright': np.array([0, 0, -1.0]),  # [m] the coordinates for a yacht standing in upright position\n",
    "}  "
   ]
  },
  {
   "cell_type": "markdown",
   "id": "ef995a91-93c0-49b7-bb1d-0c5204ebd027",
   "metadata": {},
   "source": [
    "\n",
    "<div class=\"alert alert-block alert-warning\">\n",
    "<b>Run cell below twice:</b> Run cell below twice before running other cells. Output below is expected to always appear at first time importing pySailingVLM:\n",
    "<br><br>\n",
    "    \n",
    "<em>   \n",
    "/home/user/miniconda3/envs/mgr_test/lib/python3.10/site-packages/numba/core/lowering.py:107: NumbaDebugInfoWarning: Could not find source for function: <function __numba_array_expr_0x7f01d6a1e9e0 at 0x7f01d6cfa680>. Debug line information may be inaccurate.warnings.warn(NumbaDebugInfoWarning(msg))\n",
    "</em> \n",
    "<br>\n",
    "</div>"
   ]
  },
  {
   "cell_type": "code",
   "execution_count": 2,
   "id": "3ba83607",
   "metadata": {
    "tags": []
   },
   "outputs": [],
   "source": [
    "import shutil\n",
    "from pySailingVLM.rotations.csys_transformations import CSYS_transformations\n",
    "from pySailingVLM.yacht_geometry.hull_geometry import HullGeometry\n",
    "from pySailingVLM.results.save_utils import save_results_to_file\n",
    "from pySailingVLM.solver.panels_plotter import display_panels_xyz_and_winds\n",
    "from pySailingVLM.results.inviscid_flow import InviscidFlowResults\n",
    "from pySailingVLM.solver.vlm import Vlm\n",
    "from pySailingVLM.runner.sail import Wind, Sail\n",
    "from pySailingVLM.runner.container import Output, Rig, Conditions, Solver, MainSail, JibSail, Csys, Keel\n",
    "\n",
    "from pySailingVLM.solver.panels_plotter import plot_cp"
   ]
  },
  {
   "cell_type": "code",
   "execution_count": 3,
   "id": "2eb8460e-fb37-4ecd-9751-7cae163060f0",
   "metadata": {
    "tags": []
   },
   "outputs": [],
   "source": [
    "import numpy as np\n",
    "from pySailingVLM.solver.coefs import get_vlm_Cxyz\n",
    "\n",
    "\n",
    "sweep_angle_degs = [0]#[0, 45, 135]\n",
    "\n",
    "# cav = s_wing / span = chord_length\n",
    "cav = chord_length\n",
    "C = []\n",
    "c_l = []\n",
    "a_vlm = []\n",
    "\n",
    "solver = Solver(**solver_args)\n",
    "conditions = Conditions(**conditions_args)\n",
    "out = Output(**output_args) \n",
    "main = MainSail(**main_sail_args)\n",
    "jib = JibSail(**jib_sail_args)\n",
    "csys = Csys(**csys_args)\n",
    "keel = Keel(**keel_args)\n",
    "csys_transformations = CSYS_transformations(conditions.heel_deg, conditions.leeway_deg, v_from_original_xyz_2_reference_csys_xyz=csys.reference_level_for_moments)\n",
    "w = Wind(conditions)\n",
    "\n",
    "for sweep_angle_deg in sweep_angle_degs:\n",
    "\n",
    "    rig_args['rake_deg']= 90. + sweep_angle_deg\n",
    "    rig = Rig(**rig_args)\n",
    "    \n",
    "    s = Sail(solver, rig, main, jib, csys_transformations)\n",
    "    sail_set = s.sail_set\n",
    "    myvlm = Vlm(sail_set.panels, solver.n_chordwise, solver.n_spanwise, conditions.rho, w.profile, sail_set.trailing_edge_info, sail_set.leading_edge_info)\n",
    "\n",
    "    height = 1.0\n",
    "    sails_Cxyz = myvlm.get_Cxyz(w, height)\n",
    "    \n",
    "    # ln per panel\n",
    "    # ln = rho * u_oo * Gamma_n\n",
    "    l = np.asarray([(myvlm.rho * np.linalg.norm(w.profile.get_true_wind_speed_at_h(height)) * gamma_n) for gamma_n in myvlm.gamma_magnitude])\n",
    "    cl = np.asarray([ln / (0.5 * myvlm.rho * np.linalg.norm(w.profile.get_true_wind_speed_at_h(height))**2 *cav) for ln in l])\n",
    "    cl2 = np.asarray([ 2 * gamma_n / (np.linalg.norm(w.profile.get_true_wind_speed_at_h(height)) * cav)for gamma_n in myvlm.gamma_magnitude])\n",
    "\n",
    "    CL = 2 * np.sum(myvlm.gamma_magnitude*myvlm.span_vectors[:,2] ) / (np.linalg.norm(w.profile.get_true_wind_speed_at_h(height)) * np.sum(myvlm.areas))\n",
    "    # sam main jest\n",
    "\n",
    "    for idx, Cxyz in enumerate(sails_Cxyz):\n",
    "        a = Cxyz[1] / np.deg2rad(AoA_deg)\n",
    "        C.append(Cxyz[1])\n",
    "        a_vlm.append(a)"
   ]
  },
  {
   "cell_type": "code",
   "execution_count": 4,
   "id": "0e4318ae-a489-4548-bf6d-3d22629582ca",
   "metadata": {
    "tags": []
   },
   "outputs": [],
   "source": [
    "np.testing.assert_almost_equal(cl, cl2)\n",
    "cl_1, cl_2 = np.split(cl, 2)\n",
    "cl_1_resh = cl_1.reshape(solver.n_chordwise, solver.n_spanwise)\n",
    "cl_2_resh = cl_2.reshape(solver.n_chordwise, solver.n_spanwise)\n",
    "cl_2_flipp = np.fliplr(cl_2_resh.reshape(solver.n_chordwise, solver.n_spanwise))\n",
    "np.testing.assert_almost_equal(sorted(cl_1), sorted(cl_2))\n",
    "np.testing.assert_almost_equal(cl_1_resh, cl_2_flipp)"
   ]
  },
  {
   "cell_type": "code",
   "execution_count": 5,
   "id": "cd19a95b-abca-4432-88a8-9ba6b6364402",
   "metadata": {
    "tags": []
   },
   "outputs": [
    {
     "data": {
      "text/plain": [
       "[5.286107639106136]"
      ]
     },
     "execution_count": 5,
     "metadata": {},
     "output_type": "execute_result"
    }
   ],
   "source": [
    "CL / np.deg2rad(AoA_deg)\n",
    "a_vlm"
   ]
  },
  {
   "cell_type": "code",
   "execution_count": 6,
   "id": "c143a123-a45b-4d84-80e8-9aa0f7d3ef53",
   "metadata": {},
   "outputs": [],
   "source": [
    "def calculate_ydata(gamma, CL, cav, wind, height):\n",
    "    V = np.array(wind.profile.get_true_wind_speed_at_h(height))\n",
    "    return 2 * gamma / (np.linalg.norm(V) * cav * CL)"
   ]
  },
  {
   "cell_type": "code",
   "execution_count": 23,
   "id": "be8a3f35-93e8-41df-bd34-57c8b8f6e6f3",
   "metadata": {
    "tags": []
   },
   "outputs": [
    {
     "data": {
      "text/plain": [
       "array([0.11785113, 0.35355339, 0.58925565, 0.11785113, 0.35355339,\n",
       "       0.58925565])"
      ]
     },
     "execution_count": 23,
     "metadata": {},
     "output_type": "execute_result"
    }
   ],
   "source": [
    "N = int(myvlm.panels.shape[0] / 2)\n",
    "a = np.array([calculate_ydata(myvlm.gamma_magnitude[i], C[0], cav, w, height) for i in range(N)]) # we have only main part, use  above water for computations\n",
    "cp_y = np.split(myvlm.cp, 2)[0][:,2]\n",
    "\n",
    "x_data = 2 * cp_y / (half_wing_span * 2)\n",
    "y_data = cl_1/CL\n",
    "cp_y"
   ]
  },
  {
   "cell_type": "code",
   "execution_count": 25,
   "id": "0c8e7d37-ff16-4cf9-ba1c-5ba201ec5c9f",
   "metadata": {
    "tags": []
   },
   "outputs": [
    {
     "data": {
      "text/plain": [
       "<matplotlib.legend.Legend at 0x7fcc27e70400>"
      ]
     },
     "execution_count": 25,
     "metadata": {},
     "output_type": "execute_result"
    },
    {
     "data": {
      "image/png": "[encoded data removed]",
      "text/plain": [
       "<Figure size 640x480 with 1 Axes>"
      ]
     },
     "metadata": {},
     "output_type": "display_data"
    }
   ],
   "source": [
    "# importing matplotlib module\n",
    "from matplotlib import pyplot as plt\n",
    "fig = plt.figure()\n",
    "ax = fig.add_subplot(1, 1, 1)\n",
    "ax.plot(x_data, y_data, color='tab:blue', label='pySailingVLM')\n",
    "#ax.plot(x_good, ydata_good, color='tab:orange', linestyle='dashed', label='Bertin')\n",
    "\n",
    "ax.set_xlabel(r\"$\\frac{2y}{b}$\")\n",
    "ax.set_ylabel(r\"$\\frac{C_{l}}{C_{L}}$\")\n",
    "#ax.set_title(\"Spanwise lift distribution\")\n",
    "ax.legend()   "
   ]
  },
  {
   "cell_type": "code",
   "execution_count": null,
   "id": "cd22c546-d1f4-4aff-823c-088dad404424",
   "metadata": {},
   "outputs": [],
   "source": []
  }
 ],
 "metadata": {
  "kernelspec": {
   "display_name": "Python 3 (ipykernel)",
   "language": "python",
   "name": "python3"
  },
  "language_info": {
   "codemirror_mode": {
    "name": "ipython",
    "version": 3
   },
   "file_extension": ".py",
   "mimetype": "text/x-python",
   "name": "python",
   "nbconvert_exporter": "python",
   "pygments_lexer": "ipython3",
   "version": "3.10.10"
  }
 },
 "nbformat": 4,
 "nbformat_minor": 5
}
