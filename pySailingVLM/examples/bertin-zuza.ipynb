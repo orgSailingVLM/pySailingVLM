{
 "cells": [
  {
   "cell_type": "markdown",
   "id": "3af05a03-2ffc-4c54-9dae-a16491a5efdf",
   "metadata": {
    "tags": []
   },
   "source": [
    "# Example\n",
    "Comparison between swept wing by Bertin and pySailingVLM results. More information can be found at Aerodynamics for engineers John J.Bertin p 368 (Example 7.2)."
   ]
  },
  {
   "cell_type": "code",
   "execution_count": 1,
   "id": "f6f13512",
   "metadata": {
    "tags": []
   },
   "outputs": [],
   "source": [
    "# varaibles.py for jupyter\n",
    "import os\n",
    "import numpy as np\n",
    "import time\n",
    "from pySailingVLM.runner.container import Output, Rig, Conditions, Solver, MainSail, JibSail, Csys, Keel\n",
    "\n",
    "half_wing_span = 0.5\n",
    "sweep_angle_deg = 45.\n",
    "chord_length = 0.2\n",
    "AoA_deg = 4.\n",
    "mgirths =  np.array([0.00, 1./8, 1./4, 1./2, 3./4, 7./8, 1.00])\n",
    "mchords = np.array([chord_length]* len(mgirths))\n",
    "jgirths = np.array([0.00, 1./4, 1./2, 3./4, 1.00])\n",
    "\n",
    "out = Output(case_name='my_case_name',\n",
    "             case_dir=os.path.abspath(''),\n",
    "             name=os.path.join(\"results_example_jib_and_mainsail_vlm\", time.strftime(\"%Y-%m-%d_%Hh%Mm%Ss\")),\n",
    "            file_name='my_fancy_results')\n",
    "\n",
    "solver = Solver(n_spanwise=4,\n",
    "                n_chordwise=3,\n",
    "                interpolation_type='linear')\n",
    "\n",
    "conditions = Conditions(leeway_deg=0.,    \n",
    "                        heel_deg=0.,    \n",
    "                        SOG_yacht=0.,  \n",
    "                        tws_ref= 1.,     \n",
    "                        alpha_true_wind_deg= AoA_deg, \n",
    "                        reference_water_level_for_wind_profile=-0.,\n",
    "                        wind_exp_coeff=0.,\n",
    "                        wind_reference_measurment_height=10.,\n",
    "                        rho=1.,\n",
    "                        wind_profile='flat',\n",
    "                        roughness=0.05)\n",
    "\n",
    "rig = Rig(main_sail_luff=half_wing_span / np.cos(np.deg2rad(sweep_angle_deg)),\n",
    "          jib_luff=10.0,\n",
    "          foretriangle_height=11.50,\n",
    "          foretriangle_base=3.90,\n",
    "          sheer_above_waterline=0.,\n",
    "          boom_above_sheer=0.,\n",
    "          rake_deg=90. + sweep_angle_deg,\n",
    "          mast_LOA=0.,\n",
    "          sails_def='main')\n",
    "\n",
    "main = MainSail(centerline_twist_deg=0*mgirths,\n",
    "                girths=mgirths,\n",
    "                chords=mchords,\n",
    "                camber= 0*np.array([0.01, 0.01, 0.01, 0.01, 0.01, 0.01, 0.01]),\n",
    "                camber_distance_from_luff=np.array([0.5, 0.5, 0.5, 0.5, 0.5, 0.5, 0.5]))\n",
    "              \n",
    "jib = JibSail(centerline_twist_deg=0*(10+5)  + 0*15. * jgirths,\n",
    "             girths=jgirths,\n",
    "             chords=0* np.array([3.80, 2.98, 2.15, 1.33, 0.5]),\n",
    "             camber=0*np.array([0.01, 0.01, 0.01, 0.01, 0.01]),\n",
    "             camber_distance_from_luff=np.array([0.5, 0.5, 0.5, 0.5, 0.5]))\n",
    "\n",
    "csys = Csys(reference_level_for_moments=np.array([0, 0, 0]))\n",
    "keel = Keel(center_of_lateral_resistance_upright=np.array([0, 0, -1.0]))    "
   ]
  },
  {
   "cell_type": "markdown",
   "id": "ef995a91-93c0-49b7-bb1d-0c5204ebd027",
   "metadata": {},
   "source": [
    "\n",
    "<div class=\"alert alert-block alert-warning\">\n",
    "<b>Run cell below twice:</b> Run cell below twice before running other cells. Output below is expected to always appear at first time importing pySailingVLM:\n",
    "<br><br>\n",
    "    \n",
    "<em>   \n",
    "/home/user/miniconda3/envs/mgr_test/lib/python3.10/site-packages/numba/core/lowering.py:107: NumbaDebugInfoWarning: Could not find source for function: <function __numba_array_expr_0x7f01d6a1e9e0 at 0x7f01d6cfa680>. Debug line information may be inaccurate.warnings.warn(NumbaDebugInfoWarning(msg))\n",
    "</em> \n",
    "<br>\n",
    "</div>"
   ]
  },
  {
   "cell_type": "code",
   "execution_count": 2,
   "id": "3ba83607",
   "metadata": {
    "tags": []
   },
   "outputs": [],
   "source": [
    "import shutil\n",
    "from pySailingVLM.rotations.csys_transformations import CSYS_transformations\n",
    "from pySailingVLM.yacht_geometry.hull_geometry import HullGeometry\n",
    "from pySailingVLM.results.save_utils import save_results_to_file\n",
    "from pySailingVLM.solver.panels_plotter import display_panels_xyz_and_winds\n",
    "from pySailingVLM.results.inviscid_flow import InviscidFlowResults\n",
    "from pySailingVLM.solver.vlm import Vlm\n",
    "from pySailingVLM.runner.sail import Wind, Sail\n",
    "from pySailingVLM.solver.panels_plotter import plot_cp"
   ]
  },
  {
   "cell_type": "code",
   "execution_count": 3,
   "id": "c270de25",
   "metadata": {
    "tags": []
   },
   "outputs": [],
   "source": [
    "import numpy as np\n",
    "from pySailingVLM.solver.coefs import get_vlm_Cxyz\n",
    "\n",
    "AoA_degs = np.linspace(0.001, 10., 20) # [4.0] #\n",
    "\n",
    "C_results = []\n",
    "cl_results = []\n",
    "a_vlm_results = []\n",
    "for AoA_deg in AoA_degs:\n",
    "    conditions.alpha_true_wind_deg=  AoA_deg\n",
    "    csys_transformations = CSYS_transformations(conditions.heel_deg, conditions.leeway_deg, v_from_original_xyz_2_reference_csys_xyz=csys.reference_level_for_moments)\n",
    "\n",
    "    w = Wind(conditions)\n",
    "    s = Sail(solver, rig, main, jib, csys_transformations)\n",
    "    sail_set = s.sail_set\n",
    "    myvlm = Vlm(sail_set.panels, solver.n_chordwise, solver.n_spanwise, conditions.rho, w.profile, sail_set.trailing_edge_info, sail_set.leading_edge_info)\n",
    "    \n",
    "    height = 1.0\n",
    "    sails_Cxyz = myvlm.get_Cxyz(w, height)\n",
    "    \n",
    "        # enumerate through sails\n",
    "        # in this example we have only main\n",
    "    for idx, Cxyz in enumerate(sails_Cxyz):\n",
    "        a_vlm = Cxyz[1] / np.deg2rad(AoA_deg)\n",
    "        C_results.append(Cxyz[1])\n",
    "        a_vlm_results.append(a_vlm)\n"
   ]
  },
  {
   "cell_type": "code",
   "execution_count": 4,
   "id": "9a66967b-dd6f-4fd4-95b7-87042c336cef",
   "metadata": {
    "tags": []
   },
   "outputs": [],
   "source": [
    "# results from Aerodynamics for engineers John J.Bertin p 368\n",
    "C_bertin = 1.096 * np.pi * np.pi / 180.* AoA_degs"
   ]
  },
  {
   "cell_type": "code",
   "execution_count": 5,
   "id": "83b0bd4d-a6a1-4f49-b5ca-b7ceb4a52034",
   "metadata": {
    "tags": []
   },
   "outputs": [
    {
     "data": {
      "text/plain": [
       "[<matplotlib.lines.Line2D at 0x7fcd80973280>]"
      ]
     },
     "execution_count": 5,
     "metadata": {},
     "output_type": "execute_result"
    },
    {
     "data": {
      "image/png": "[encoded data removed]",
      "text/plain": [
       "<Figure size 350x262.5 with 1 Axes>"
      ]
     },
     "metadata": {},
     "output_type": "display_data"
    }
   ],
   "source": [
    "import matplotlib.pyplot as plt\n",
    "import scienceplots # sudo apt-get install dvipng texlive-latex-extra texlive-fonts-recommended cm-super\n",
    "\n",
    "plt.style.use('science')\n",
    "fig = plt.figure()\n",
    "ax = fig.add_subplot(1, 1, 1)\n",
    "ax.plot(AoA_degs, C_results, color='tab:blue', label='pySailingVLM')\n",
    "ax.plot(AoA_degs, C_bertin, color='tab:orange', linestyle='dashed', label='Bertin')\n",
    "\n",
    "ax.set_xlabel(r\"AoA [$^\\circ$]\")\n",
    "ax.set_ylabel(r\"$C_{L}$\")\n",
    "\n",
    "ax.set_title(\"Lift coefficient versus angle of attack.\")\n",
    "ax.legend()\n",
    "plt.plot(AoA_degs, C_results)   \n",
    "#plt.savefig('bertin_1.png')"
   ]
  },
  {
   "cell_type": "code",
   "execution_count": 6,
   "id": "095eb852-6625-4232-a29f-78bac6b13f64",
   "metadata": {
    "tags": []
   },
   "outputs": [],
   "source": [
    "import numpy as np\n",
    "from pySailingVLM.solver.coefs import get_vlm_Cxyz\n",
    "\n",
    "AoA_deg = 4.2\n",
    "C = []\n",
    "c_l = []\n",
    "a_vlm = []\n",
    "\n",
    "conditions.alpha_true_wind_deg = AoA_deg\n",
    "solver.n_spanwise = 4\n",
    "\n",
    "csys_transformations = CSYS_transformations(conditions.heel_deg, conditions.leeway_deg, v_from_original_xyz_2_reference_csys_xyz=csys.reference_level_for_moments)\n",
    "\n",
    "w = Wind(conditions)\n",
    "s = Sail(solver, rig, main, jib, csys_transformations)\n",
    "sail_set = s.sail_set\n",
    "myvlm = Vlm(sail_set.panels, solver.n_chordwise, solver.n_spanwise, conditions.rho, w.profile, sail_set.trailing_edge_info, sail_set.leading_edge_info)\n",
    "\n",
    "height = 1.0\n",
    "sails_Cxyz = myvlm.get_Cxyz(w, height)\n",
    " \n",
    "for idx, Cxyz in enumerate(sails_Cxyz):\n",
    "    a = Cxyz[1] / np.deg2rad(AoA_deg)\n",
    "    C.append(Cxyz[1])\n",
    "    a_vlm.append(a)"
   ]
  },
  {
   "cell_type": "code",
   "execution_count": 7,
   "id": "322bbf87-8409-43a4-bc80-a5d19700cbac",
   "metadata": {
    "tags": []
   },
   "outputs": [],
   "source": [
    "def calculate_ydata(gamma, CL, cav, wind, height):\n",
    "    V = np.array(wind.profile.get_true_wind_speed_at_h(height))\n",
    "    return 2 * gamma / (np.linalg.norm(V) * cav * CL)\n",
    "\n",
    "N = int(sail_set.panels.shape[0] / 2)\n",
    "cav = chord_length\n",
    "y_data = np.array([calculate_ydata(myvlm.gamma_magnitude[i], C[0], cav, w, height) for i in range(N)])\n",
    "cp_y = np.split(myvlm.cp, 2)[0][:,2]\n",
    "x_data = 2 * cp_y / (half_wing_span * 2)"
   ]
  },
  {
   "cell_type": "code",
   "execution_count": 8,
   "id": "d572afad-9839-48f0-a6fc-c6b7e8a7f9c8",
   "metadata": {
    "tags": []
   },
   "outputs": [],
   "source": [
    "g_good = np.array([0.0273, 0.0287, 0.0286, 0.0250])\n",
    "ydata_good = 2 * 4 * 2 * half_wing_span * g_good / (1.096 * cav)\n",
    "cp_y_good = np.array([0.0625, 0.1875, 0.3125, 0.4377])\n",
    "x_good = 2*cp_y_good / (2*half_wing_span)"
   ]
  },
  {
   "cell_type": "code",
   "execution_count": 9,
   "id": "7351de04-ffb7-4540-bf8c-fc620f25c32c",
   "metadata": {
    "tags": []
   },
   "outputs": [
    {
     "data": {
      "image/png": "[encoded data removed]",
      "text/plain": [
       "<Figure size 350x262.5 with 1 Axes>"
      ]
     },
     "metadata": {},
     "output_type": "display_data"
    }
   ],
   "source": [
    "# importing matplotlib module\n",
    "from matplotlib import pyplot as plt\n",
    "fig = plt.figure()\n",
    "ax = fig.add_subplot(1, 1, 1)\n",
    "ax.plot(x_data, y_data, 'bo',label='pySailingVLM')\n",
    "ax.plot(x_good, ydata_good,'r+', label='Bertin')\n",
    "\n",
    "ax.set_xlabel(r\"$\\frac{2y}{b}$\")\n",
    "ax.set_ylabel(r\"$\\frac{C_{l}}{C_{L}}$\")\n",
    "ax.set_title(\"Spanwise lift distribution\")\n",
    "ax.legend()   \n",
    "plt.savefig('bertin_2')"
   ]
  },
  {
   "cell_type": "code",
   "execution_count": 30,
   "id": "7fad0ec2-6722-4f15-a9b0-1c935ebd288f",
   "metadata": {
    "tags": []
   },
   "outputs": [],
   "source": [
    "from pySailingVLM.solver.coefs import get_C\n",
    "cl = get_C(myvlm.panels, myvlm.areas, myvlm.lift, myvlm.inlet_conditions.V_app_infs, myvlm.n_spanwise, myvlm.n_chordwise, myvlm.rho)\n",
    "cd = get_C(myvlm.panels, myvlm.areas, myvlm.drag, myvlm.inlet_conditions.V_app_infs, myvlm.n_spanwise, myvlm.n_chordwise, myvlm.rho)"
   ]
  },
  {
   "cell_type": "code",
   "execution_count": 11,
   "id": "a83dd38d-e1cd-45fe-8e51-a8569fed3d4c",
   "metadata": {
    "tags": []
   },
   "outputs": [
    {
     "data": {
      "text/plain": [
       "0.25115499655255913"
      ]
     },
     "execution_count": 11,
     "metadata": {},
     "output_type": "execute_result"
    }
   ],
   "source": [
    "C[0]"
   ]
  },
  {
   "cell_type": "code",
   "execution_count": 12,
   "id": "2b603674-e6f5-4940-8330-59e7bd6c4e36",
   "metadata": {
    "tags": []
   },
   "outputs": [
    {
     "data": {
      "text/plain": [
       "0.2"
      ]
     },
     "execution_count": 12,
     "metadata": {},
     "output_type": "execute_result"
    }
   ],
   "source": [
    "cav"
   ]
  },
  {
   "cell_type": "code",
   "execution_count": 13,
   "id": "05922ed8-bac8-4411-90ca-cbdd39032cdb",
   "metadata": {
    "tags": []
   },
   "outputs": [
    {
     "data": {
      "text/plain": [
       "array([0.15048188, 0.16511454, 0.16779281, 0.15540244, 0.21575479,\n",
       "       0.23138651, 0.23289148, 0.20740083, 0.25064008, 0.26453997,\n",
       "       0.26399075, 0.22775606])"
      ]
     },
     "execution_count": 13,
     "metadata": {},
     "output_type": "execute_result"
    }
   ],
   "source": [
    "y_data * C[0]"
   ]
  },
  {
   "cell_type": "code",
   "execution_count": 14,
   "id": "2eee193b-7f17-4884-a6a5-3327a0854ab3",
   "metadata": {
    "tags": []
   },
   "outputs": [
    {
     "data": {
      "text/plain": [
       "array([[0.25131138, 0.26524849, 0.2646978 , 0.22836607]])"
      ]
     },
     "execution_count": 14,
     "metadata": {},
     "output_type": "execute_result"
    }
   ],
   "source": [
    "cl"
   ]
  },
  {
   "cell_type": "code",
   "execution_count": 15,
   "id": "a6ffecc9-b35c-491b-8999-c80968d63880",
   "metadata": {
    "tags": []
   },
   "outputs": [],
   "source": [
    "np.testing.assert_almost_equal(myvlm.lift, myvlm.lift2, decimal=3)"
   ]
  },
  {
   "cell_type": "code",
   "execution_count": 16,
   "id": "df0dfb53-6f49-4f53-8935-dbaf5d96a026",
   "metadata": {
    "tags": []
   },
   "outputs": [
    {
     "data": {
      "text/plain": [
       "array([-0.00013776,  0.00187597,  0.00013776])"
      ]
     },
     "execution_count": 16,
     "metadata": {},
     "output_type": "execute_result"
    }
   ],
   "source": [
    "myvlm.lift[0]"
   ]
  },
  {
   "cell_type": "code",
   "execution_count": 17,
   "id": "e3e9b11d-8cfc-4758-8f45-a0b9519425e1",
   "metadata": {
    "tags": []
   },
   "outputs": [
    {
     "data": {
      "text/plain": [
       "array([0.        , 0.00187627, 0.        ])"
      ]
     },
     "execution_count": 17,
     "metadata": {},
     "output_type": "execute_result"
    }
   ],
   "source": [
    "myvlm.lift2[0]"
   ]
  },
  {
   "cell_type": "code",
   "execution_count": 18,
   "id": "59ac3c10-a50f-41a3-9a66-651e72233107",
   "metadata": {
    "tags": []
   },
   "outputs": [
    {
     "data": {
      "image/png": "[encoded data removed]",
      "text/plain": [
       "<Figure size 350x262.5 with 1 Axes>"
      ]
     },
     "metadata": {},
     "output_type": "display_data"
    }
   ],
   "source": [
    "import matplotlib.pyplot as plt\n",
    "%matplotlib inline\n",
    "section_number = np.arange(1, myvlm.n_spanwise+1, 1)\n",
    "\n",
    "fig = plt.figure()\n",
    "ax1 = fig.add_subplot(111)\n",
    "\n",
    "#ax1.plot(cl[0], section_number, label='jib')\n",
    "ax1.plot(section_number, cl[0]/ C[0], label='main')\n",
    "plt.xlabel('section number')\n",
    "plt.ylabel('section cl')\n",
    "plt.legend(loc='upper left')\n",
    "plt.show()"
   ]
  },
  {
   "cell_type": "code",
   "execution_count": 19,
   "id": "fd17972e-b1eb-4d79-b73d-76256c981c24",
   "metadata": {
    "tags": []
   },
   "outputs": [
    {
     "data": {
      "text/plain": [
       "array([0.25131138, 0.26524849, 0.2646978 , 0.22836607])"
      ]
     },
     "execution_count": 19,
     "metadata": {},
     "output_type": "execute_result"
    }
   ],
   "source": [
    "cl[0]"
   ]
  },
  {
   "cell_type": "code",
   "execution_count": 20,
   "id": "fb90b51f-4920-4977-94f9-d82c1d0796f4",
   "metadata": {
    "tags": []
   },
   "outputs": [
    {
     "data": {
      "text/plain": [
       "array([0.00833333, 0.00833333, 0.00833333, 0.00833333])"
      ]
     },
     "execution_count": 20,
     "metadata": {},
     "output_type": "execute_result"
    }
   ],
   "source": [
    "myvlm.areas[0:4]"
   ]
  },
  {
   "cell_type": "code",
   "execution_count": 21,
   "id": "dbf338cb-d4ac-4f92-a9ee-994cab194776",
   "metadata": {
    "tags": []
   },
   "outputs": [
    {
     "data": {
      "text/plain": [
       "array([0.00209426, 0.0022104 , 0.00220582, 0.00190305])"
      ]
     },
     "execution_count": 21,
     "metadata": {},
     "output_type": "execute_result"
    }
   ],
   "source": [
    "cl[0]*myvlm.areas[0:4]"
   ]
  },
  {
   "cell_type": "code",
   "execution_count": 22,
   "id": "de4a4c58-833b-4ae4-98d5-f1508f3733ea",
   "metadata": {
    "tags": []
   },
   "outputs": [
    {
     "data": {
      "text/plain": [
       "0.25240593588596544"
      ]
     },
     "execution_count": 22,
     "metadata": {},
     "output_type": "execute_result"
    }
   ],
   "source": [
    "np.sum(cl[0]*myvlm.areas[0:4]) / np.sum(myvlm.areas[0:4])\n"
   ]
  },
  {
   "cell_type": "code",
   "execution_count": 23,
   "id": "2e866370-4ff8-4e31-82f6-064fd7e15571",
   "metadata": {
    "tags": []
   },
   "outputs": [
    {
     "data": {
      "text/plain": [
       "0.25115499655255913"
      ]
     },
     "execution_count": 23,
     "metadata": {},
     "output_type": "execute_result"
    }
   ],
   "source": [
    "C[0]"
   ]
  },
  {
   "cell_type": "code",
   "execution_count": 24,
   "id": "09fb401d-7d2f-4667-8808-214d12e68b09",
   "metadata": {},
   "outputs": [
    {
     "data": {
      "text/plain": [
       "13.773137952681397"
      ]
     },
     "execution_count": 24,
     "metadata": {},
     "output_type": "execute_result"
    }
   ],
   "source": [
    "np.sum(cl[0]) / np.deg2rad(conditions.alpha_true_wind_deg)\n",
    "# cl calkowite???"
   ]
  },
  {
   "cell_type": "code",
   "execution_count": 25,
   "id": "36061930-9631-4ea5-b121-c96351eddadc",
   "metadata": {
    "tags": []
   },
   "outputs": [
    {
     "data": {
      "image/png": "[encoded data removed]",
      "text/plain": [
       "<Figure size 350x262.5 with 1 Axes>"
      ]
     },
     "metadata": {},
     "output_type": "display_data"
    }
   ],
   "source": [
    "import matplotlib.pyplot as plt\n",
    "%matplotlib inline\n",
    "section_number = np.arange(1, myvlm.n_spanwise+1, 1)\n",
    "\n",
    "fig = plt.figure()\n",
    "ax1 = fig.add_subplot(111)\n",
    "\n",
    "#ax1.plot(cl[0], section_number, label='jib')\n",
    "ax1.plot(cl[0]/ C[0], section_number, label='main')\n",
    "plt.ylabel('section number')\n",
    "plt.xlabel('section cl')\n",
    "plt.legend(loc='upper left')\n",
    "plt.show()"
   ]
  },
  {
   "cell_type": "code",
   "execution_count": 31,
   "id": "4dd43c67-9446-40c4-8487-d4ca3bfb590e",
   "metadata": {
    "tags": []
   },
   "outputs": [
    {
     "data": {
      "text/plain": [
       "array([[0.00928261, 0.01172925, 0.01211624, 0.00943233]])"
      ]
     },
     "execution_count": 31,
     "metadata": {},
     "output_type": "execute_result"
    }
   ],
   "source": [
    "cd"
   ]
  },
  {
   "cell_type": "code",
   "execution_count": 28,
   "id": "0e260e06-15b7-4a9b-aff6-582da66811b3",
   "metadata": {
    "tags": []
   },
   "outputs": [
    {
     "data": {
      "text/plain": [
       "array([[0.25131138, 0.26524849, 0.2646978 , 0.22836607]])"
      ]
     },
     "execution_count": 28,
     "metadata": {},
     "output_type": "execute_result"
    }
   ],
   "source": [
    "cl"
   ]
  }
 ],
 "metadata": {
  "kernelspec": {
   "display_name": "Python 3 (ipykernel)",
   "language": "python",
   "name": "python3"
  },
  "language_info": {
   "codemirror_mode": {
    "name": "ipython",
    "version": 3
   },
   "file_extension": ".py",
   "mimetype": "text/x-python",
   "name": "python",
   "nbconvert_exporter": "python",
   "pygments_lexer": "ipython3",
   "version": "3.10.10"
  }
 },
 "nbformat": 4,
 "nbformat_minor": 5
}
